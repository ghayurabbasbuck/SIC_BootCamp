{
 "cells": [
  {
   "cell_type": "markdown",
   "id": "9f7af41f-46fb-49eb-a43f-618f135518b6",
   "metadata": {},
   "source": [
    "# LAB-1"
   ]
  },
  {
   "cell_type": "markdown",
   "id": "aa7b306e-013d-457c-9fb2-0e320254d668",
   "metadata": {},
   "source": [
    "# 1-1"
   ]
  },
  {
   "cell_type": "code",
   "execution_count": 57,
   "id": "75b0150f-3571-49fa-a271-cd40fbd00f36",
   "metadata": {},
   "outputs": [
    {
     "name": "stdout",
     "output_type": "stream",
     "text": [
      "Hi, just checking in. Let me know if you need anything!\n"
     ]
    }
   ],
   "source": [
    "message = \"Hi, just checking in. Let me know if you need anything!\"\n",
    "print(message)"
   ]
  },
  {
   "cell_type": "markdown",
   "id": "6a55b3b6-5590-4eac-9e37-7c4319ffcbfc",
   "metadata": {},
   "source": [
    "# 1-2"
   ]
  },
  {
   "cell_type": "code",
   "execution_count": 4,
   "id": "39319f1e-c280-41a5-a12d-1b373569253f",
   "metadata": {},
   "outputs": [
    {
     "name": "stdout",
     "output_type": "stream",
     "text": [
      "Hi, just checking in. Let me know if you need anything!\n",
      "Let me know if you need anything!\n"
     ]
    }
   ],
   "source": [
    "m1 = \"Hi, just checking in. Let me know if you need anything!\"\n",
    "print(m1)\n",
    "new_message = \"Let me know if you need anything!\"\n",
    "m1 = new_message\n",
    "print(m1)"
   ]
  },
  {
   "cell_type": "markdown",
   "id": "080f5c03-df8c-42c8-917f-eb68510535b2",
   "metadata": {},
   "source": [
    "# 1-3"
   ]
  },
  {
   "cell_type": "code",
   "execution_count": 60,
   "id": "c1f97eec-8405-4474-bccd-b457c06d83d8",
   "metadata": {},
   "outputs": [
    {
     "name": "stdout",
     "output_type": "stream",
     "text": [
      "hi Ghayur_Abbas, how  are you, i am sure you are doing well!\n"
     ]
    }
   ],
   "source": [
    "personal_name  = \"hi Ghayur_Abbas, how  are you, i am sure you are doing well!\"\n",
    "print(personal_name)"
   ]
  },
  {
   "cell_type": "markdown",
   "id": "c278a1bb-5db6-4469-9c91-13b6f1d15363",
   "metadata": {},
   "source": [
    "# 1-4"
   ]
  },
  {
   "cell_type": "code",
   "execution_count": 61,
   "id": "b84dd491-3789-4388-8305-4d45a3bb61bb",
   "metadata": {},
   "outputs": [
    {
     "name": "stdout",
     "output_type": "stream",
     "text": [
      "GHAYUR_ABBAS\n",
      "ghayur_abbas\n",
      "Ghayur_Abbas\n"
     ]
    }
   ],
   "source": [
    "n = \"Ghayur_Abbas\"\n",
    "print(n.upper())\n",
    "print(n.lower())\n",
    "print(n.title())"
   ]
  },
  {
   "cell_type": "markdown",
   "id": "eba41986-51ae-4d93-b3a4-6184402f5fab",
   "metadata": {},
   "source": [
    "# 1-5"
   ]
  },
  {
   "cell_type": "code",
   "execution_count": 13,
   "id": "406a4fda-9396-4668-aed8-a61633404982",
   "metadata": {},
   "outputs": [
    {
     "name": "stdout",
     "output_type": "stream",
     "text": [
      "Albert Einstein Once Said, 'A Person who never made a mistake never tried anything new'\n"
     ]
    }
   ],
   "source": [
    "Quotation = \"Albert Einstein Once Said, 'A Person who never made a mistake never tried anything new'\"\n",
    "print(Quotation)"
   ]
  },
  {
   "cell_type": "markdown",
   "id": "be5f501b-b9c9-466f-9abb-6ec14aa04a9e",
   "metadata": {},
   "source": [
    "# 1-6"
   ]
  },
  {
   "cell_type": "code",
   "execution_count": 64,
   "id": "c63273d3-0f9e-46b2-8896-aaabba6aff3e",
   "metadata": {},
   "outputs": [
    {
     "name": "stdout",
     "output_type": "stream",
     "text": [
      "Quaid-e-Azam,   said 'Try Try Again'\n"
     ]
    }
   ],
   "source": [
    "famous_person = \"Quaid-e-Azam,\"\n",
    "message = \"said 'Try Try Again'\"\n",
    "print(famous_person,\" \", message)"
   ]
  },
  {
   "cell_type": "markdown",
   "id": "e62ec810-52e9-48ce-92d6-244af8181db4",
   "metadata": {},
   "source": [
    "# 1-7"
   ]
  },
  {
   "cell_type": "code",
   "execution_count": 30,
   "id": "7ef84419-ecf3-4ee0-b71f-2acb819d2a2d",
   "metadata": {
    "scrolled": true
   },
   "outputs": [
    {
     "name": "stdout",
     "output_type": "stream",
     "text": [
      "                         Ghayur\tAbbas\n",
      "\n",
      "Ghayur\tAbbas\n",
      "Ghayur\tAbbas\n",
      "\n",
      "                         Ghayur\tAbbas\n"
     ]
    }
   ],
   "source": [
    "name = \"                         Ghayur\\tAbbas\\n\"\n",
    "print(name)\n",
    "print(name.strip())\n",
    "print(name.lstrip())\n",
    "print(name.rstrip())"
   ]
  },
  {
   "cell_type": "markdown",
   "id": "452848d6-34ca-4741-8e86-b989527ba684",
   "metadata": {},
   "source": [
    "# 1-8"
   ]
  },
  {
   "cell_type": "code",
   "execution_count": 48,
   "id": "69e40592-b2a2-4b78-96f8-aa2603c1c466",
   "metadata": {},
   "outputs": [
    {
     "name": "stdout",
     "output_type": "stream",
     "text": [
      "There were once a man and a woman who had long in vain wished for a child. At length the woman hoped that God was about to grant her desire. These people had a little window at the back of their house from which a splendid garden could be seen, which was full of the most beautiful flowers and herbs. It was, however, surrounded by a high wall, and no one dared to go into it because it belonged to an enchantress, who had great power and was dreaded by all the world. One day the woman was standing by this window and looking down into the garden, when she saw a bed which was planted with the most beautiful rampion (rapunzel), and it looked so fresh and green that she longed for it, and had the greatest desire to eat some. This desire increased every day, and as she knew that she could not get any of it, she quite pined away, and looked pale and miserable. Then her husband was alarmed, and asked, What aileth thee, dear wife Ah, she replied, if I can't get some of the rampion, which is in the garden behind our house, to eat, I shall die. The man, who loved her, thought, Sooner than let thy wife die, bring her some of the rampion thyself, let it cost thee what it will. In the twilight of the evening, he clambered down over the wall into the garden of the enchantress, hastily clutched a handful of rampion, and took it to his wife. She at once made herself a salad of it, and ate it with much relish. She, however, liked it so muchâ€”-so very much, that the next day she longed for it three times as much as before. If he was to have any rest, her husband must once more descend into the garden. In the gloom of evening, therefore, he let himself down again; but when he had clambered down the wall he was terribly afraid, for he saw the enchantress standing before him. How canst thou dare, said she with angry look, to descend into my garden and steal my rampion like a thief Thou shalt suffer for it! Ah, answered he, let mercy take the place of justice, I only made up my mind to do it out of necessity. My wife saw your rampion from the window, and felt such a longing for it that she would have died if she had not got some to eat. Then the enchantress allowed her anger to be softened, and said to him, If the case be as thou sayest, I will allow thee to take away with thee as much rampion as thou wilt, only I make one condition, thou must give me the child which thy wife will bring into the world; it shall be well treated, and I will care for it like a mother. The man in his terror consented to everything, and when the woman was brought to bed, the enchantress appeared at once, gave the child the name of Rapunzel, and took it away with her.\n",
      "\n",
      "Rapunzel grew into the most beautiful child beneath the sun. When she was twelve years old, the enchantress shut her into a tower, which lay in a forest, and had neither stairs nor door, but quite at the top was a little window. When the enchantress wanted to go in, she placed herself beneath it and cried,\n",
      "\n",
      "Rapunzel, Rapunzel,\n",
      "Let down your hair to me.\n",
      "\n",
      "Rapunzel had magnificent long hair, fine as spun gold, and when she heard the voice of the enchantress she unfastened her braided tresses, wound them round one of the hooks of the window above, and then the hair fell twenty ells down, and the enchantress climbed up by it.\n",
      "\n",
      "After a year or two, it came to pass that the King's son rode through the forest and went by the tower. Then he heard a song, which was so charming that he stood still and listened. This was Rapunzel, who in her solitude passed her time in letting her sweet voice resound. The King's son wanted to climb up to her, and looked for the door of the tower, but none was to be found. He rode home, but the singing had so deeply touched his heart, that every day he went out into the forest and listened to it. Once when he was thus standing behind a tree, he saw that an enchantress came there, and he heard how she cried,\n",
      "\n",
      "Rapunzel, Rapunzel,\n",
      "Let down your hair.\n",
      "\n",
      "Then Rapunzel let down the braids of her hair, and the enchantress climbed up to her. If that is the ladder by which one mounts, I will for once try my fortune, said he, and the next day when it began to grow dark, he went to the tower and cried,\n",
      "\n",
      "Rapunzel, Rapunzel,\n",
      "Let down your hair.\n",
      "\n",
      "Immediately the hair fell down and the King's son climbed up.\n",
      "\n",
      "At first Rapunzel was terribly frightened when a man such as her eyes had never yet beheld, came to her; but the King's son began to talk to her quite like a friend, and told her that his heart had been so stirred that it had let him have no rest, and he had been forced to see her. Then Rapunzel lost her fear, and when he asked her if she would take him for her husband, and she saw that he was young and handsome, she thought, He will love me more than old Dame Gothel does; and she said yes, and laid her hand in his. She said, I will willingly go away with thee, but I do not know how to get down. Bring with thee a skein of silk every time that thou comest, and I will weave a ladder with it, and when that is ready I will descend, and thou wilt take me on thy horse. They agreed that until that time he should come to her every evening, for the old woman came by day. The enchantress remarked nothing of this, until once Rapunzel said to her, Tell me, Dame Gothel, how it happens that you are so much heavier for me to draw up than the young King's sonâ€”-he is with me in a moment. Ah! thou wicked child, cried the enchantress What do I hear thee say! I thought I had separated thee from all the world, and yet thou hast deceived me. In her anger she clutched Rapunzel's beautiful tresses, wrapped them twice round her left hand, seized a pair of scissors with the right, and snip, snap, they were cut off, and the lovely braids lay on the ground. And she was so pitiless that she took poor Rapunzel into a desert where she had to live in great grief and misery.\n",
      "\n",
      "On the same day, however, that she cast out Rapunzel, the enchantress in the evening fastened the braids of hair which she had cut off, to the hook of the window, and when the King's son came and cried,\n",
      "\n",
      "Rapunzel, Rapunzel,\n",
      "Let down your hair,\n",
      "\n",
      "she let the hair down. The King's son ascended, but he did not find his dearest Rapunzel above, but the enchantress, who gazed at him with wicked and venomous looks. Aha! she cried mockingly, Thou wouldst fetch thy dearest, but the beautiful bird sits no longer singing in the nest; the cat has got it, and will scratch out thy eyes as well. Rapunzel is lost to thee; thou wilt never see her more. The King's son was beside himself with pain, and in his despair he leapt down from the tower. He escaped with his life, but the thorns into which he fell, pierced his eyes. Then he wandered quite blind about the forest, ate nothing but roots and berries, and did nothing but lament and weep over the loss of his dearest wife. Thus he roamed about in misery for some years, and at length came to the desert where Rapunzel, with the twins to which she had given birth, a boy and a girl, lived in wretchedness. He heard a voice, and it seemed so familiar to him that he went towards it, and when he approached, Rapunzel knew him and fell on his neck and wept. Two of her tears wetted his eyes and they grew clear again, and he could see with them as before. He led her to his kingdom where he was joyfully received, and they lived for a long time afterwards, happy and contented.\n"
     ]
    }
   ],
   "source": [
    "t_f = open('Rapunzel.txt')\n",
    "txt_file = t_f.readlines()\n",
    "suffix = '\\n'\n",
    "for s in txt_file:\n",
    "    print(s.removesuffix(suffix))"
   ]
  },
  {
   "cell_type": "markdown",
   "id": "49689295-c131-4791-b508-de4714b071b8",
   "metadata": {},
   "source": [
    "# 1-9"
   ]
  },
  {
   "cell_type": "code",
   "execution_count": 55,
   "id": "d7425677-2e26-48ed-a13c-65ba1b6e530b",
   "metadata": {},
   "outputs": [
    {
     "name": "stdout",
     "output_type": "stream",
     "text": [
      "Ghayur'\ts   \n",
      "\n"
     ]
    }
   ],
   "source": [
    "a = \"Ghayur'\\ts   \\n\"\n",
    "suffix = '\\t'\n",
    "print(a.removesuffix(suffix))"
   ]
  },
  {
   "cell_type": "markdown",
   "id": "b5907c3e-1259-4a1b-9db8-4dfc80a6d61d",
   "metadata": {},
   "source": [
    "# 1-10"
   ]
  },
  {
   "cell_type": "code",
   "execution_count": 65,
   "id": "aa6c112f-6b8b-4542-8a33-6bf88428847a",
   "metadata": {},
   "outputs": [
    {
     "name": "stdin",
     "output_type": "stream",
     "text": [
      "enter your favourite number 5\n"
     ]
    },
    {
     "name": "stdout",
     "output_type": "stream",
     "text": [
      "5\n"
     ]
    }
   ],
   "source": [
    "a = 5\n",
    "a = input('enter your favourite number')\n",
    "print(a)"
   ]
  },
  {
   "cell_type": "code",
   "execution_count": 68,
   "id": "8382fdfb-e2ed-4495-b161-9c2adf21c423",
   "metadata": {},
   "outputs": [
    {
     "name": "stdout",
     "output_type": "stream",
     "text": [
      "my favourite number is: 5\n"
     ]
    }
   ],
   "source": [
    "a = 5\n",
    "a = 'my favourite number is: '+str(a)\n",
    "print(a)"
   ]
  },
  {
   "cell_type": "code",
   "execution_count": null,
   "id": "f66d2a6c-7096-4488-a945-274b3d92a989",
   "metadata": {},
   "outputs": [],
   "source": []
  },
  {
   "cell_type": "markdown",
   "id": "10e3be79-a9c7-4536-92e4-7dbb30abb7ff",
   "metadata": {},
   "source": [
    "# LAB-2"
   ]
  },
  {
   "cell_type": "markdown",
   "id": "f7c505eb-b2a4-4d66-9d8b-41b68e4a7ff7",
   "metadata": {},
   "source": [
    "# 2-1"
   ]
  },
  {
   "cell_type": "code",
   "execution_count": 72,
   "id": "55efbe99-a40d-48e4-b4f6-634340ca00e5",
   "metadata": {},
   "outputs": [
    {
     "name": "stdout",
     "output_type": "stream",
     "text": [
      "ghayur\n",
      "raza\n",
      "wafadar\n",
      "tasawar\n",
      "abbasi\n"
     ]
    }
   ],
   "source": [
    "names = ['ghayur','raza','wafadar','tasawar','abbasi']\n",
    "print(names[0])\n",
    "print(names[1])\n",
    "print(names[2])\n",
    "print(names[3])\n",
    "print(names[4])"
   ]
  },
  {
   "cell_type": "markdown",
   "id": "0993f706-3e4d-4d03-863e-ff2609d69c4c",
   "metadata": {},
   "source": [
    "# 2-2"
   ]
  },
  {
   "cell_type": "code",
   "execution_count": 182,
   "id": "e27bf3c9-d34c-4554-a2fa-516b6e869a16",
   "metadata": {},
   "outputs": [
    {
     "name": "stdout",
     "output_type": "stream",
     "text": [
      "Hi ghayur how are you\n",
      "Hi raza how are you\n",
      "Hi wafadar how are you\n",
      "Hi tasawar how are you\n",
      "Hi abbasi how are you\n"
     ]
    }
   ],
   "source": [
    "names = ['ghayur','raza','wafadar','tasawar','abbasi']\n",
    "print('Hi',names[0],'how are you')\n",
    "print('Hi',names[1],'how are you')\n",
    "print('Hi',names[2],'how are you')\n",
    "print('Hi',names[3],'how are you')\n",
    "print('Hi',names[4],'how are you')"
   ]
  },
  {
   "cell_type": "markdown",
   "id": "c1b1e265-88c4-4dfd-9978-01a55c7cb0a0",
   "metadata": {},
   "source": [
    "# 2-3"
   ]
  },
  {
   "cell_type": "code",
   "execution_count": 187,
   "id": "e4805275-7e9f-4908-b2fa-04bc44894a13",
   "metadata": {},
   "outputs": [
    {
     "name": "stdout",
     "output_type": "stream",
     "text": [
      "Most welcome to a dinner!  ['Abbasi', 'Wafadar', 'Tasawar']\n"
     ]
    }
   ],
   "source": [
    "frnds = ['Abbasi','Wafadar','Tasawar']\n",
    "print('Most welcome to a dinner! ',frnds)"
   ]
  },
  {
   "cell_type": "code",
   "execution_count": 199,
   "id": "a669e3f7-69d6-44e9-b00c-04af642d4cdd",
   "metadata": {},
   "outputs": [
    {
     "name": "stdout",
     "output_type": "stream",
     "text": [
      "Most welcome to a dinner!  Abbasi\n",
      "Most welcome to a dinner!  Wafadar\n",
      "Most welcome to a dinner!  Tasawar\n"
     ]
    }
   ],
   "source": [
    "frnds = ['Abbasi','Wafadar','Tasawar']\n",
    "for i in frnds:\n",
    "    print('Most welcome to a dinner! ',i)"
   ]
  },
  {
   "cell_type": "markdown",
   "id": "df087971-6aa2-4ce4-b9b4-52e14dd347ca",
   "metadata": {},
   "source": [
    "# 2-4"
   ]
  },
  {
   "cell_type": "code",
   "execution_count": 201,
   "id": "358c50c0-16f1-442c-9c5a-0d0adbab0cfd",
   "metadata": {},
   "outputs": [
    {
     "name": "stdout",
     "output_type": "stream",
     "text": [
      "Most welcome to a dinner!  ['Abbasi', 'Wafadar', 'Tasawar']\n",
      "Wafadar i can feel your busy Schedule: so no issue if you are not caming \n",
      "my new invitation list is:  ['Abbasi', 'Raza', 'Tasawar']\n",
      "i would be thankfull to you if you are coming Abbasi\n",
      "i would be thankfull to you if you are coming Raza\n",
      "i would be thankfull to you if you are coming Tasawar\n"
     ]
    }
   ],
   "source": [
    "frnds = ['Abbasi','Wafadar','Tasawar']\n",
    "print('Most welcome to a dinner! ',frnds)\n",
    "not_attend = str(frnds[1])+\" i can feel your busy Schedule: so no issue if you are not caming \"\n",
    "print(not_attend)\n",
    "frnds[1] = 'Raza'\n",
    "print('my new invitation list is: ',frnds)\n",
    "for i in frnds:\n",
    "    print('i would be thankfull to you if you are coming',i)"
   ]
  },
  {
   "cell_type": "markdown",
   "id": "b165be45-55c3-47e8-9755-4d3c1fcde1ea",
   "metadata": {},
   "source": [
    "# 2-5"
   ]
  },
  {
   "cell_type": "code",
   "execution_count": 202,
   "id": "0d047987-6697-4859-88c4-16674b6ee676",
   "metadata": {},
   "outputs": [
    {
     "name": "stdout",
     "output_type": "stream",
     "text": [
      "['Abbasi', 'Raza', 'Tasawar']\n",
      "there is a three furthur man places on my dinner table\n",
      "i would be thankfull to you if you are coming Kazim\n",
      "i would be thankfull to you if you are coming Abbasi\n",
      "i would be thankfull to you if you are coming mazz\n",
      "i would be thankfull to you if you are coming Raza\n",
      "i would be thankfull to you if you are coming Tasawar\n",
      "i would be thankfull to you if you are coming waseem\n"
     ]
    }
   ],
   "source": [
    "print(frnds)\n",
    "print('there is a three furthur man places on my dinner table')\n",
    "frnds.insert(0,'Kazim')\n",
    "frnds.insert(2,'mazz')\n",
    "frnds.append('waseem')\n",
    "for i in frnds:\n",
    "    print('i would be thankfull to you if you are coming',i)"
   ]
  },
  {
   "cell_type": "markdown",
   "id": "02c14484-5148-45dc-a555-c1d7feab2903",
   "metadata": {},
   "source": [
    "# 2-6"
   ]
  },
  {
   "cell_type": "code",
   "execution_count": 203,
   "id": "99e92838-a182-43d2-97cc-4febd7ba835a",
   "metadata": {},
   "outputs": [
    {
     "name": "stdout",
     "output_type": "stream",
     "text": [
      "['Kazim', 'Abbasi', 'mazz', 'Raza', 'Tasawar', 'waseem']\n",
      "Sorry! i can invite only two person for dinner\n",
      "Sorry! i can't invite you waseem\n",
      "Sorry! i can't invite you Tasawar\n",
      "Sorry! i can't invite you Raza\n",
      "Sorry! i can't invite you mazz\n",
      "you are still invited Kazim\n",
      "you are still invited Abbasi\n",
      "[]\n"
     ]
    }
   ],
   "source": [
    "print(frnds)\n",
    "print('Sorry! i can invite only two person for dinner')\n",
    "print(\"Sorry! i can't invite you\",frnds.pop())\n",
    "print(\"Sorry! i can't invite you\",frnds.pop())\n",
    "print(\"Sorry! i can't invite you\",frnds.pop())\n",
    "print(\"Sorry! i can't invite you\",frnds.pop())\n",
    "print(\"you are still invited\",frnds[0])\n",
    "print(\"you are still invited\",frnds[1])\n",
    "del frnds[0:2]\n",
    "print(frnds)"
   ]
  },
  {
   "cell_type": "markdown",
   "id": "d4bf8187-a9f4-40de-a64c-6ac502448057",
   "metadata": {},
   "source": [
    "# 2-7"
   ]
  },
  {
   "cell_type": "code",
   "execution_count": 179,
   "id": "8db381e4-b70e-4b87-9106-1b0f0be3ba82",
   "metadata": {},
   "outputs": [
    {
     "name": "stdout",
     "output_type": "stream",
     "text": [
      "['islam abad', 'murree', 'babusur top', 'kashmir', 'naran']\n",
      "['babusur top', 'islam abad', 'kashmir', 'murree', 'naran']\n",
      "['islam abad', 'murree', 'babusur top', 'kashmir', 'naran']\n",
      "['naran', 'murree', 'kashmir', 'islam abad', 'babusur top']\n",
      "['babusur top', 'islam abad', 'kashmir', 'murree', 'naran']\n",
      "['babusur top', 'islam abad', 'kashmir', 'murree', 'naran']\n",
      "['naran', 'murree', 'kashmir', 'islam abad', 'babusur top']\n"
     ]
    }
   ],
   "source": [
    "location = ['islam abad','murree','babusur top','kashmir','naran']\n",
    "print(location)\n",
    "sorted_list = sorted(location)\n",
    "print(sorted_list)\n",
    "print(location)\n",
    "loc = sorted(location,reverse=True)\n",
    "print(loc)\n",
    "locc = sorted(loc)\n",
    "print(locc)\n",
    "location.sort()\n",
    "print(location)\n",
    "location.sort(reverse = True)\n",
    "print(location)"
   ]
  },
  {
   "cell_type": "code",
   "execution_count": 2,
   "id": "b981077e-fe66-4320-a490-761455a40a08",
   "metadata": {},
   "outputs": [],
   "source": [
    "# 3-1"
   ]
  },
  {
   "cell_type": "code",
   "execution_count": 8,
   "id": "69434725-e76e-4b50-9b70-4dabfd849b56",
   "metadata": {},
   "outputs": [
    {
     "name": "stdout",
     "output_type": "stream",
     "text": [
      "i like Margherita Piza\n",
      "i like Pepperoni Piza\n",
      "i like BBQ Piza\n",
      "classic pizza with tomato sauce, fresh mozzarella, and basil\n",
      "i really love pizza\n"
     ]
    }
   ],
   "source": [
    "pizza = ['Margherita','Pepperoni','BBQ']\n",
    "for i in pizza:\n",
    "    print('i like '+i+' Piza')\n",
    "print('classic pizza with tomato sauce, fresh mozzarella, and basil')\n",
    "print('i really love pizza')"
   ]
  },
  {
   "cell_type": "code",
   "execution_count": 9,
   "id": "6de0cb57-19bf-463b-b22a-626d02387718",
   "metadata": {},
   "outputs": [],
   "source": [
    "# 3-2"
   ]
  },
  {
   "cell_type": "code",
   "execution_count": 17,
   "id": "cd72045f-d655-4048-8ebb-7880e87e643c",
   "metadata": {},
   "outputs": [
    {
     "name": "stdout",
     "output_type": "stream",
     "text": [
      "cow is a hilal aniaml\n",
      "sheep is a hilal aniaml\n",
      "goat is a hilal aniaml\n",
      "any of these animal eat grass\n"
     ]
    }
   ],
   "source": [
    "animals = ['cow','sheep','goat']\n",
    "for i in animals:\n",
    "    print(i,'is a hilal aniaml')\n",
    "print('any of these animal eat grass')"
   ]
  },
  {
   "cell_type": "code",
   "execution_count": 19,
   "id": "71e7a0e4-afb1-4cf9-a8a9-b888cdcb6274",
   "metadata": {},
   "outputs": [
    {
     "name": "stdout",
     "output_type": "stream",
     "text": [
      "0\n",
      "1\n",
      "2\n",
      "3\n",
      "4\n",
      "5\n",
      "6\n",
      "7\n",
      "8\n",
      "9\n",
      "10\n",
      "11\n",
      "12\n",
      "13\n",
      "14\n",
      "15\n",
      "16\n",
      "17\n",
      "18\n",
      "19\n",
      "20\n"
     ]
    }
   ],
   "source": [
    "n = range(21)\n",
    "for i in n:\n",
    "    print(i)"
   ]
  },
  {
   "cell_type": "code",
   "execution_count": 20,
   "id": "40921571-e377-412c-83b7-91e47e8618fe",
   "metadata": {},
   "outputs": [
    {
     "name": "stdout",
     "output_type": "stream",
     "text": [
      "1\n",
      "2\n",
      "3\n",
      "4\n",
      "5\n",
      "6\n",
      "7\n",
      "8\n",
      "9\n",
      "10\n",
      "11\n",
      "12\n",
      "13\n",
      "14\n",
      "15\n",
      "16\n",
      "17\n",
      "18\n",
      "19\n",
      "20\n"
     ]
    }
   ],
   "source": [
    "n = [1,2,3,4,5,6,7,8,9,10,11,12,13,14,15,16,17,18,19,20]\n",
    "for i in n:\n",
    "    print(i)"
   ]
  },
  {
   "cell_type": "code",
   "execution_count": 21,
   "id": "4a225316-f8c1-4d70-912f-0f77c7da492c",
   "metadata": {},
   "outputs": [],
   "source": [
    "# 3-3"
   ]
  },
  {
   "cell_type": "code",
   "execution_count": 29,
   "id": "ab25fdec-de87-4d22-951a-8f5c5a92e8bc",
   "metadata": {},
   "outputs": [
    {
     "name": "stdout",
     "output_type": "stream",
     "text": [
      "min 1\n",
      "max 1000000\n",
      "sum 500000500000\n"
     ]
    }
   ],
   "source": [
    "million_list = list(range(1,1000001))\n",
    "print('min',min(million_list))\n",
    "print('max',max(million_list))\n",
    "print('sum',sum(million_list))"
   ]
  },
  {
   "cell_type": "code",
   "execution_count": 41,
   "id": "f7ae7882-80c3-4ff9-8d7b-bb63754f11b6",
   "metadata": {},
   "outputs": [],
   "source": [
    "# 3-4"
   ]
  },
  {
   "cell_type": "code",
   "execution_count": 42,
   "id": "c577af76-8288-489c-a2bc-ae3edb6baf21",
   "metadata": {},
   "outputs": [
    {
     "name": "stdout",
     "output_type": "stream",
     "text": [
      "1\n",
      "3\n",
      "5\n",
      "7\n",
      "9\n",
      "11\n",
      "13\n",
      "15\n",
      "17\n",
      "19\n"
     ]
    }
   ],
   "source": [
    "odd_num = range(1,20,2)\n",
    "for i in odd_num:\n",
    "    print(i)"
   ]
  },
  {
   "cell_type": "code",
   "execution_count": 43,
   "id": "7266632f-8608-45fb-a8a2-ed3d409e69eb",
   "metadata": {},
   "outputs": [],
   "source": [
    "#3-4"
   ]
  },
  {
   "cell_type": "code",
   "execution_count": 58,
   "id": "387b4f79-2870-4c70-852a-8347ed64e60a",
   "metadata": {},
   "outputs": [
    {
     "name": "stdout",
     "output_type": "stream",
     "text": [
      "3\n",
      "6\n",
      "9\n",
      "12\n",
      "15\n",
      "18\n",
      "21\n",
      "24\n",
      "27\n",
      "30\n"
     ]
    }
   ],
   "source": [
    "mltp = list(range(3,31,3))\n",
    "for i in mltp:\n",
    "    print(i)"
   ]
  },
  {
   "cell_type": "code",
   "execution_count": 64,
   "id": "750552e3-cf71-4ed5-a4da-c8d0a8d502cb",
   "metadata": {},
   "outputs": [],
   "source": [
    "# 3-5"
   ]
  },
  {
   "cell_type": "code",
   "execution_count": 65,
   "id": "dd61ab9f-6e62-4880-858f-1303279f7ac1",
   "metadata": {},
   "outputs": [
    {
     "name": "stdout",
     "output_type": "stream",
     "text": [
      "[1, 8, 27, 64, 125, 216, 343, 512, 729, 1000]\n",
      "1\n",
      "8\n",
      "27\n",
      "64\n",
      "125\n",
      "216\n",
      "343\n",
      "512\n",
      "729\n",
      "1000\n"
     ]
    }
   ],
   "source": [
    "l = list(range(1,11))\n",
    "l2 = []\n",
    "for i in l:\n",
    "    i2 = i**3\n",
    "    l2.append(i2)\n",
    "print(l2)\n",
    "for i in l2:\n",
    "    print(i)\n"
   ]
  },
  {
   "cell_type": "code",
   "execution_count": 66,
   "id": "2972d68e-d0c1-40c0-9fcd-16d6dd46c87d",
   "metadata": {},
   "outputs": [],
   "source": [
    "# 3-6"
   ]
  },
  {
   "cell_type": "code",
   "execution_count": 68,
   "id": "4f17e6d5-4311-4f15-995d-1f5ec84227bf",
   "metadata": {},
   "outputs": [
    {
     "name": "stdout",
     "output_type": "stream",
     "text": [
      "[1, 8, 27, 64, 125, 216, 343, 512, 729, 1000]\n"
     ]
    }
   ],
   "source": [
    "l_c = [i**3 for i in list(range(1,11))]\n",
    "print(l_c)"
   ]
  },
  {
   "cell_type": "code",
   "execution_count": 69,
   "id": "87b17c32-c889-4f48-b128-fe3899d5af49",
   "metadata": {},
   "outputs": [],
   "source": [
    "# 3-7"
   ]
  },
  {
   "cell_type": "code",
   "execution_count": 80,
   "id": "ba11fdd3-9178-4626-842a-4111bb8850bf",
   "metadata": {},
   "outputs": [
    {
     "name": "stdout",
     "output_type": "stream",
     "text": [
      "['Margherita', 'Pepperoni', 'BBQ']\n",
      "['Margherita', 'Pepperoni', 'BBQ', 'Hawaiian Pizza', 'Veggie Pizza ']\n"
     ]
    }
   ],
   "source": [
    "friend_pizza = pizza.copy()\n",
    "friend_pizza.append('Hawaiian Pizza')\n",
    "friend_pizza.append('Veggie Pizza ')\n",
    "print(pizza)\n",
    "print(friend_pizza)"
   ]
  },
  {
   "cell_type": "code",
   "execution_count": 89,
   "id": "a49a6a13-55d3-442a-8ed9-0c4de6bc1ebc",
   "metadata": {},
   "outputs": [
    {
     "name": "stdout",
     "output_type": "stream",
     "text": [
      "My favourite pizzas are: \n",
      "['Margherita', 'Pepperoni', 'BBQ']\n",
      "my friends favourite pizzas are: \n",
      "['Margherita', 'Pepperoni', 'BBQ', 'Hawaiian Pizza', 'Veggie Pizza ']\n"
     ]
    }
   ],
   "source": [
    "print('My favourite pizzas are: ')\n",
    "l1 = []\n",
    "for i in pizza:\n",
    "    l1.append(i)\n",
    "print(l1)\n",
    "print('my friends favourite pizzas are: ')\n",
    "l2 = []\n",
    "for i in friend_pizza:\n",
    "    l2.append(i)\n",
    "print(l2)"
   ]
  },
  {
   "cell_type": "code",
   "execution_count": 90,
   "id": "99aa9520-ffff-4751-bf8d-b39430841dfe",
   "metadata": {},
   "outputs": [],
   "source": [
    "# 3-8"
   ]
  },
  {
   "cell_type": "code",
   "execution_count": 93,
   "id": "5a69476e-5f4d-4ebd-bbce-244a8090c2d5",
   "metadata": {},
   "outputs": [
    {
     "name": "stdout",
     "output_type": "stream",
     "text": [
      "fish\n",
      "mutton\n",
      "beef\n"
     ]
    }
   ],
   "source": [
    "t = ('fish','mutton','beef')\n",
    "for i in t:\n",
    "    print(i)"
   ]
  },
  {
   "cell_type": "code",
   "execution_count": 96,
   "id": "d9c5e5a0-6529-4d67-84cf-c56d650bec48",
   "metadata": {},
   "outputs": [
    {
     "ename": "TypeError",
     "evalue": "'tuple' object does not support item assignment",
     "output_type": "error",
     "traceback": [
      "\u001b[1;31m---------------------------------------------------------------------------\u001b[0m",
      "\u001b[1;31mTypeError\u001b[0m                                 Traceback (most recent call last)",
      "Cell \u001b[1;32mIn[96], line 1\u001b[0m\n\u001b[1;32m----> 1\u001b[0m t[\u001b[38;5;241m0\u001b[39m] \u001b[38;5;241m=\u001b[39m (\u001b[38;5;124m'\u001b[39m\u001b[38;5;124mchicken\u001b[39m\u001b[38;5;124m'\u001b[39m,)\n\u001b[0;32m      2\u001b[0m \u001b[38;5;28mprint\u001b[39m(t)\n",
      "\u001b[1;31mTypeError\u001b[0m: 'tuple' object does not support item assignment"
     ]
    }
   ],
   "source": [
    "t[0] = ('chicken',)\n",
    "print(t)"
   ]
  },
  {
   "cell_type": "code",
   "execution_count": 100,
   "id": "7f39c711-048b-4f30-a525-fe5a8b2e23c7",
   "metadata": {},
   "outputs": [
    {
     "name": "stdout",
     "output_type": "stream",
     "text": [
      "('biryani', 'sabzi', 'beef')\n"
     ]
    }
   ],
   "source": [
    "t_l = list(t)\n",
    "t_l[0:2] = ['biryani','sabzi']\n",
    "t = tuple(t_l)\n",
    "print(t)"
   ]
  },
  {
   "cell_type": "markdown",
   "id": "1092d676-7d7b-4320-b4ba-7977b3d1f28c",
   "metadata": {},
   "source": [
    "# PythonRefresher4"
   ]
  },
  {
   "cell_type": "code",
   "execution_count": 101,
   "id": "0d346487-8c1d-4ed1-ba0b-7f78fe1da73c",
   "metadata": {},
   "outputs": [],
   "source": [
    "# 4-1"
   ]
  },
  {
   "cell_type": "code",
   "execution_count": 124,
   "id": "3db4d0f3-ec6f-4473-bc7f-1ecc45c0fbb6",
   "metadata": {},
   "outputs": [
    {
     "name": "stdin",
     "output_type": "stream",
     "text": [
      "enter your color:[green','yellow','red'] green\n"
     ]
    },
    {
     "name": "stdout",
     "output_type": "stream",
     "text": [
      "the player just earned the 5 points\n"
     ]
    }
   ],
   "source": [
    "alien_color = input(\"enter your color:[green','yellow','red']\")\n",
    "if alien_color == 'green':\n",
    "    print('the player just earned the 5 points')\n",
    "else:\n",
    "    print('no output')"
   ]
  },
  {
   "cell_type": "code",
   "execution_count": 115,
   "id": "2022a087-72b0-4753-a238-6f09c5619e55",
   "metadata": {},
   "outputs": [],
   "source": [
    "# 4-2"
   ]
  },
  {
   "cell_type": "code",
   "execution_count": 120,
   "id": "2950e34b-6587-421d-9d9f-f8b4498e05d4",
   "metadata": {},
   "outputs": [
    {
     "name": "stdin",
     "output_type": "stream",
     "text": [
      "enter your color:[green','yellow','red'] green\n"
     ]
    },
    {
     "name": "stdout",
     "output_type": "stream",
     "text": [
      "the player just earned the 5 points\n"
     ]
    }
   ],
   "source": [
    "alien_color = input(\"enter your color:[green','yellow','red']\")\n",
    "if alien_color == 'green':\n",
    "    print('the player just earned the 5 points')\n",
    "else:\n",
    "    print('the player just earned the 10 points')"
   ]
  },
  {
   "cell_type": "code",
   "execution_count": 118,
   "id": "58ff770e-af7b-4bfa-a37d-a1ed1b64aaa4",
   "metadata": {},
   "outputs": [],
   "source": [
    "# 4-3"
   ]
  },
  {
   "cell_type": "code",
   "execution_count": 123,
   "id": "d07f0fd5-fcd0-462d-a08c-4563a90985d9",
   "metadata": {},
   "outputs": [
    {
     "name": "stdin",
     "output_type": "stream",
     "text": [
      "enter your color:[green','yellow','red'] green\n"
     ]
    },
    {
     "name": "stdout",
     "output_type": "stream",
     "text": [
      "the player just earned the 5 points\n"
     ]
    }
   ],
   "source": [
    "alien_color = input(\"enter your color:[green','yellow','red']\")\n",
    "if alien_color == 'green':\n",
    "    print('the player just earned the 5 points')\n",
    "elif alien_color == 'yellow':\n",
    "    print('the player just earned the 10 points')\n",
    "elif alien_color == 'red':\n",
    "    print('the player just earned the 15 points')"
   ]
  },
  {
   "cell_type": "code",
   "execution_count": 125,
   "id": "3c0e6117-cb43-47e4-b48d-42542cbb24aa",
   "metadata": {},
   "outputs": [],
   "source": [
    "# 4-4"
   ]
  },
  {
   "cell_type": "code",
   "execution_count": 130,
   "id": "796a42fd-edc5-4be2-935c-5ce33c5e3a0b",
   "metadata": {},
   "outputs": [
    {
     "name": "stdin",
     "output_type": "stream",
     "text": [
      "enter your age:  20\n"
     ]
    },
    {
     "name": "stdout",
     "output_type": "stream",
     "text": [
      "peson is a toodler\n"
     ]
    }
   ],
   "source": [
    "age = int(input(\"enter your age: \"))\n",
    "if age < 2:\n",
    "    print(\"person is a baby\")\n",
    "elif age >= 2 and age < 4:\n",
    "    print(\"peson is a toodler\")\n",
    "elif age >= 4 and age < 13:\n",
    "    print(\"peson is a toodler\")\n",
    "elif age >=13 and age < 20:\n",
    "    print(\"peson is a toodler\")\n",
    "elif age >= 20 and age < 65:\n",
    "    print(\"peson is a toodler\")\n",
    "elif age >= 65:\n",
    "    print(\"person is an elder\")"
   ]
  },
  {
   "cell_type": "code",
   "execution_count": 131,
   "id": "e66111fa-165b-41fa-8f6e-d68c2c721813",
   "metadata": {},
   "outputs": [],
   "source": [
    "# 4-5"
   ]
  },
  {
   "cell_type": "code",
   "execution_count": 137,
   "id": "464b1202-9233-493e-be2e-75effd1430c2",
   "metadata": {},
   "outputs": [
    {
     "name": "stdout",
     "output_type": "stream",
     "text": [
      "you really like Apple\n",
      "you really like Banana\n",
      "you really like Mango\n",
      "you  did not like pineapple\n",
      "you did not like orange\n"
     ]
    }
   ],
   "source": [
    "fav_fruit = ['Apple','Mango','Banana']\n",
    "if 'Apple' in fav_fruit:\n",
    "    print('you really like Apple')\n",
    "if 'Banana' in fav_fruit:\n",
    "    print('you really like Banana')\n",
    "if 'Mango' in fav_fruit:\n",
    "    print('you really like Mango')\n",
    "if 'pineapple' not in fav_fruit:\n",
    "    print('you  did not like pineapple')\n",
    "if 'orange' not in fav_fruit:\n",
    "    print('you did not like orange')"
   ]
  },
  {
   "cell_type": "code",
   "execution_count": 138,
   "id": "2b5d1c53-dacb-482d-9673-82ca635dcbd9",
   "metadata": {},
   "outputs": [],
   "source": [
    "# 4-6"
   ]
  },
  {
   "cell_type": "code",
   "execution_count": 145,
   "id": "10fa6694-6c5d-4a8d-bbc2-d30295c0eb2e",
   "metadata": {},
   "outputs": [
    {
     "name": "stdout",
     "output_type": "stream",
     "text": [
      "Hello admin would you like to see a status report\n",
      "Hello ghayur would you like to see a status report\n",
      "Hello tasawar would you like to see a status report\n",
      "Hello wafadar would you like to see a status report\n",
      "Hello raza would you like to see a status report\n"
     ]
    }
   ],
   "source": [
    "username = ['admin','ghayur','tasawar','wafadar','raza']\n",
    "for i in username:\n",
    "    if i == 'admin':\n",
    "        print('Hello',i,'would you like to see a status report')\n",
    "    elif i == 'ghayur':\n",
    "        print('Hello',i,'would you like to see a status report')\n",
    "    elif i == 'tasawar':\n",
    "        print('Hello',i,'would you like to see a status report')\n",
    "    elif i == 'wafadar':\n",
    "        print('Hello',i,'would you like to see a status report')\n",
    "    elif i == 'raza':\n",
    "        print('Hello',i,'would you like to see a status report')\n",
    "    else:\n",
    "        print(i,'thank you logging again')\n",
    "    "
   ]
  },
  {
   "cell_type": "code",
   "execution_count": 146,
   "id": "1b3523c3-a181-4717-a489-0a7ae939573d",
   "metadata": {},
   "outputs": [
    {
     "name": "stdout",
     "output_type": "stream",
     "text": [
      "Hello admin would you like to see a status report\n",
      "Hello ghayur would you like to see a status report\n",
      "Hello tasawar would you like to see a status report\n",
      "Hello wafadar would you like to see a status report\n",
      "Hello raza would you like to see a status report\n"
     ]
    }
   ],
   "source": [
    "username = ['admin','ghayur','tasawar','wafadar','raza']\n",
    "for i in username:\n",
    "    print('Hello',i,'would you like to see a status report')"
   ]
  },
  {
   "cell_type": "code",
   "execution_count": 147,
   "id": "db570a71-c304-4f31-b969-2de93315e586",
   "metadata": {},
   "outputs": [],
   "source": [
    "# 4-7"
   ]
  },
  {
   "cell_type": "code",
   "execution_count": 161,
   "id": "40aecf4b-a90d-44c8-a346-cfefad4036c6",
   "metadata": {},
   "outputs": [
    {
     "name": "stdout",
     "output_type": "stream",
     "text": [
      "we need to find some user\n"
     ]
    }
   ],
   "source": [
    "username = []\n",
    "if not username:\n",
    "    print('we need to find some user')\n",
    "else:\n",
    "    for i in username:\n",
    "        print('Hello',i,'would you like to see a status report')"
   ]
  },
  {
   "cell_type": "code",
   "execution_count": 166,
   "id": "02364b31-ca02-4273-b2e1-f3cb05649c75",
   "metadata": {},
   "outputs": [],
   "source": [
    "# 4-8"
   ]
  },
  {
   "cell_type": "code",
   "execution_count": 167,
   "id": "3f806418-9bcd-445c-9c81-b701bb586148",
   "metadata": {},
   "outputs": [
    {
     "name": "stdout",
     "output_type": "stream",
     "text": [
      "the user name is avaiable\n",
      "the user name is avaiable\n",
      "the user name is avaiable\n",
      "the person need to enter a new user name\n",
      "the person need to enter a new user name\n"
     ]
    }
   ],
   "source": [
    "current_user = [\"ghayur\",'qayyum','hubdar','raza','kazim']\n",
    "new_user = ['tasawar','wafadar','mazz',\"ghayur\",'qayyum']\n",
    "for i in new_user:\n",
    "    if i in current_user:\n",
    "        print('the person need to enter a new user name')\n",
    "    if i not in current_user:\n",
    "        print('the user name is avaiable')"
   ]
  },
  {
   "cell_type": "code",
   "execution_count": 168,
   "id": "91afc058-8de8-4902-9079-769d59cdcd3b",
   "metadata": {},
   "outputs": [],
   "source": [
    "#4-9"
   ]
  },
  {
   "cell_type": "code",
   "execution_count": 173,
   "id": "5cd5ebca-fccf-41aa-ba7c-ded9bd9e74e8",
   "metadata": {},
   "outputs": [
    {
     "name": "stdout",
     "output_type": "stream",
     "text": [
      "1st\n",
      "2nd\n",
      "3rd\n",
      "4th\n",
      "5th\n",
      "6th\n",
      "7th\n",
      "8th\n",
      "9th\n"
     ]
    }
   ],
   "source": [
    "lst = [1,2,3,4,5,6,7,8,9]\n",
    "for i in lst:\n",
    "    if i == 1:\n",
    "        print(str(i)+'st')\n",
    "    elif i == 2:\n",
    "        print(str(i)+'nd')\n",
    "    elif i == 3:\n",
    "        print(str(i)+'rd')\n",
    "    else:\n",
    "        print(str(i)+'th')"
   ]
  },
  {
   "cell_type": "markdown",
   "id": "a7576b38-8cd4-4f97-85b9-465d5c8b290c",
   "metadata": {},
   "source": [
    "# PythonRefresher5"
   ]
  },
  {
   "cell_type": "code",
   "execution_count": 175,
   "id": "0aebccf9-b7f2-4c06-a070-fe51dc3f2c56",
   "metadata": {},
   "outputs": [],
   "source": [
    "# 5-1"
   ]
  },
  {
   "cell_type": "code",
   "execution_count": 178,
   "id": "51d20a60-7b7c-4595-9493-1e2491f0a94f",
   "metadata": {},
   "outputs": [
    {
     "name": "stdout",
     "output_type": "stream",
     "text": [
      "Ghayur\n",
      "Abbas\n",
      "21\n",
      "lahore\n"
     ]
    }
   ],
   "source": [
    "dict = {'first_name':'Ghayur','last_name':'Abbas','age':21,'city':'lahore'}\n",
    "print(dict['first_name'])\n",
    "print(dict['last_name'])\n",
    "print(dict['age'])\n",
    "print(dict['city'])"
   ]
  },
  {
   "cell_type": "code",
   "execution_count": 179,
   "id": "44e61aa9-d2a5-4389-bc13-ecf689bf3b37",
   "metadata": {},
   "outputs": [
    {
     "name": "stdout",
     "output_type": "stream",
     "text": [
      "{'first_name': 'Ghayur', 'last_name': 'Abbas', 'age': 21, 'city': 'lahore'}\n"
     ]
    }
   ],
   "source": [
    "print(dict)"
   ]
  },
  {
   "cell_type": "code",
   "execution_count": 180,
   "id": "7148af9e-777e-4aea-8aac-8659484e0162",
   "metadata": {},
   "outputs": [],
   "source": [
    "# 5-2"
   ]
  },
  {
   "cell_type": "code",
   "execution_count": 188,
   "id": "cfe358c8-a02d-40d0-9e56-05681574a8fb",
   "metadata": {},
   "outputs": [
    {
     "name": "stdin",
     "output_type": "stream",
     "text": [
      "enter favourite number:  5\n",
      "enter favourite number:  12\n",
      "enter favourite number:  14\n",
      "enter favourite number:  72\n",
      "enter favourite number:  110\n"
     ]
    }
   ],
   "source": [
    "dict = {'ghayur':int(input(\"enter favourite number: \")),'wafadar':int(input(\"enter favourite number: \")),'tasawar':int(input(\"enter favourite number: \")),'raza':int(input(\"enter favourite number: \")),'kazim':int(input(\"enter favourite number: \"))}"
   ]
  },
  {
   "cell_type": "code",
   "execution_count": 187,
   "id": "6013c5ee-a409-48e5-931c-baad4c8e40c4",
   "metadata": {},
   "outputs": [
    {
     "name": "stdout",
     "output_type": "stream",
     "text": [
      "{'ghayur': 5, 'wafadar': 12, 'tasawar': 14, 'raza': 72, 'kazim': 110}\n"
     ]
    }
   ],
   "source": [
    "print(dict)"
   ]
  },
  {
   "cell_type": "code",
   "execution_count": 189,
   "id": "b001f67c-a6ec-4488-9206-4c1bb69dfe65",
   "metadata": {},
   "outputs": [],
   "source": [
    "# 5-3"
   ]
  },
  {
   "cell_type": "code",
   "execution_count": 207,
   "id": "c90c066a-f987-4836-a44f-9ebd4ce0861f",
   "metadata": {},
   "outputs": [
    {
     "name": "stdout",
     "output_type": "stream",
     "text": [
      "A block of reusable code that performs a specific task\n",
      "\n",
      "\n",
      "A way to repeatedly execute a block of code.\n",
      "\n",
      "\n",
      "An ordered collection of values, which can be of different data types\n",
      "\n",
      "\n",
      "An immutable ordered collection of values.\n",
      "\n",
      "\n",
      "An immutable ordered collection of values.\n"
     ]
    }
   ],
   "source": [
    "glossary = {\n",
    "    'function': 'A block of reusable code that performs a specific task',\n",
    "    'loop': 'A way to repeatedly execute a block of code.',\n",
    "    'list': \"An ordered collection of values, which can be of different data types\",\n",
    "    'tuple': \"An immutable ordered collection of values.\",\n",
    "    \"dictionary\":\" A collection of key-value pairs.\"\n",
    "}\n",
    "print(glossary['function'])\n",
    "print('\\n')\n",
    "print(glossary['loop'])\n",
    "print('\\n')\n",
    "print(glossary['list'])\n",
    "print('\\n')\n",
    "print(glossary['tuple'])\n",
    "print('\\n')\n",
    "print(glossary['tuple'])\n"
   ]
  },
  {
   "cell_type": "code",
   "execution_count": null,
   "id": "be43d98f-3007-46fd-9c0e-2f9c91ec76a2",
   "metadata": {},
   "outputs": [],
   "source": []
  },
  {
   "cell_type": "code",
   "execution_count": 209,
   "id": "1d80e802-16f8-4090-8aff-74b7bdd4abb7",
   "metadata": {},
   "outputs": [
    {
     "name": "stdout",
     "output_type": "stream",
     "text": [
      "function \n",
      " A block of reusable code that performs a specific task\n",
      "loop \n",
      " A way to repeatedly execute a block of code.\n",
      "list \n",
      " An ordered collection of values, which can be of different data types\n",
      "tuple \n",
      " An immutable ordered collection of values.\n",
      "dictionary \n",
      "  A collection of key-value pairs.\n"
     ]
    }
   ],
   "source": [
    "glossary = {\n",
    "    'function': 'A block of reusable code that performs a specific task',\n",
    "    'loop': 'A way to repeatedly execute a block of code.',\n",
    "    'list': \"An ordered collection of values, which can be of different data types\",\n",
    "    'tuple': \"An immutable ordered collection of values.\",\n",
    "    \"dictionary\":\" A collection of key-value pairs.\"\n",
    "}\n",
    "for key,values in glossary.items():\n",
    "    print(key,'\\n',values)"
   ]
  },
  {
   "cell_type": "code",
   "execution_count": 210,
   "id": "804d7197-2acb-440a-b297-e514e5541472",
   "metadata": {},
   "outputs": [],
   "source": [
    "# 5-4"
   ]
  },
  {
   "cell_type": "code",
   "execution_count": 212,
   "id": "68fc071e-43ec-49cf-8cdc-cf749efa976f",
   "metadata": {},
   "outputs": [
    {
     "name": "stdout",
     "output_type": "stream",
     "text": [
      "function \n",
      " A block of reusable code that performs a specific task\n",
      "loop \n",
      " A way to repeatedly execute a block of code.\n",
      "list \n",
      " An ordered collection of values, which can be of different data types\n",
      "tuple \n",
      " An immutable ordered collection of values.\n",
      "dictionary \n",
      "  A collection of key-value pairs.\n",
      "variable \n",
      " A name that refers to a value.\n",
      "data type \n",
      " Declare the type of the data.\n",
      "Array \n",
      " Array is used to store element of same type\n"
     ]
    }
   ],
   "source": [
    "glossary = {\n",
    "    'function': 'A block of reusable code that performs a specific task',\n",
    "    'loop': 'A way to repeatedly execute a block of code.',\n",
    "    'list': \"An ordered collection of values, which can be of different data types\",\n",
    "    'tuple': \"An immutable ordered collection of values.\",\n",
    "    \"dictionary\":\" A collection of key-value pairs.\"\n",
    "}\n",
    "glossary['variable'] = \"A name that refers to a value.\"\n",
    "glossary['data type'] = \"Declare the type of the data.\"\n",
    "glossary['Array'] = \"Array is used to store element of same type\"\n",
    "\n",
    "for key,values in glossary.items():\n",
    "    print(key,'\\n',values)"
   ]
  },
  {
   "cell_type": "code",
   "execution_count": 213,
   "id": "d3c56bec-c578-4c94-a4be-6d3633387bdc",
   "metadata": {},
   "outputs": [],
   "source": [
    "# 5-5"
   ]
  },
  {
   "cell_type": "code",
   "execution_count": 216,
   "id": "3291e10d-2358-40f6-9792-debacf832c76",
   "metadata": {},
   "outputs": [
    {
     "name": "stdout",
     "output_type": "stream",
     "text": [
      "punjab runs through multan\n",
      "ravi runs through lahore\n",
      "sindh runs through DG khan\n"
     ]
    }
   ],
   "source": [
    "dict = {'punjab':'multan','ravi':'lahore','sindh':'DG khan'}\n",
    "for key,value in dict.items():\n",
    "    print(key,'runs through',value)\n"
   ]
  },
  {
   "cell_type": "code",
   "execution_count": 224,
   "id": "f2db468e-5882-46fd-942c-d58e9f78f05d",
   "metadata": {},
   "outputs": [
    {
     "name": "stdout",
     "output_type": "stream",
     "text": [
      "punjab\n",
      "ravi\n",
      "sindh\n"
     ]
    }
   ],
   "source": [
    "for key,values in dict.items():\n",
    "    print(key)"
   ]
  },
  {
   "cell_type": "code",
   "execution_count": 225,
   "id": "afa873dc-46ce-4b93-952d-0035f00b8853",
   "metadata": {},
   "outputs": [
    {
     "name": "stdout",
     "output_type": "stream",
     "text": [
      "multan\n",
      "lahore\n",
      "DG khan\n"
     ]
    }
   ],
   "source": [
    "for key,values in dict.items():\n",
    "    print(values)"
   ]
  },
  {
   "cell_type": "code",
   "execution_count": 226,
   "id": "783889ae-afc7-4be2-9162-fb76d64e1309",
   "metadata": {},
   "outputs": [],
   "source": [
    "# 5-6"
   ]
  },
  {
   "cell_type": "code",
   "execution_count": 240,
   "id": "0ca5cb11-1e3b-4b3f-bb41-2c777fb4cf16",
   "metadata": {},
   "outputs": [
    {
     "name": "stdout",
     "output_type": "stream",
     "text": [
      "[{'first_name': 'Ghayur', 'last_name': 'Abbas', 'age': 21, 'city': 'lahore'}, {'first_name': 'Qlalandar', 'last_name': 'Abbas', 'age': 19, 'city': 'm garh'}, {'first_name': 'Tasawar', 'last_name': 'Abbas', 'age': 24, 'city': 'lahore'}]\n",
      "\n",
      "\n",
      "{'first_name': 'Ghayur', 'last_name': 'Abbas', 'age': 21, 'city': 'lahore'}\n",
      "{'first_name': 'Qlalandar', 'last_name': 'Abbas', 'age': 19, 'city': 'm garh'}\n",
      "{'first_name': 'Tasawar', 'last_name': 'Abbas', 'age': 24, 'city': 'lahore'}\n"
     ]
    }
   ],
   "source": [
    "dict1 = {'first_name':'Ghayur','last_name':'Abbas','age':21,'city':'lahore'}\n",
    "dict2 = {'first_name':'Qlalandar','last_name':'Abbas','age':19,'city':'m garh'}\n",
    "dict3 = {'first_name':'Tasawar','last_name':'Abbas','age':24,'city':'lahore'}\n",
    "people = list((dict1,dict2,dict3))\n",
    "print(people)\n",
    "print('\\n')\n",
    "for i in people:\n",
    "    print(i)"
   ]
  },
  {
   "cell_type": "code",
   "execution_count": 241,
   "id": "40294de6-2dec-4659-b9c3-6629f25f55fe",
   "metadata": {},
   "outputs": [],
   "source": [
    "# 5-7"
   ]
  },
  {
   "cell_type": "code",
   "execution_count": 246,
   "id": "4cd023d9-3f31-4b1b-815b-5c47b269de57",
   "metadata": {},
   "outputs": [
    {
     "name": "stdout",
     "output_type": "stream",
     "text": [
      "[{'Animal_name': 'cow', 'owner_name': 'Ghayur'}, {'Animal_name': 'sheep', 'owner_name': 'raza'}, {'Animal_name': 'buffellow', 'owner_name': 'qalandar'}]\n",
      "\n",
      "\n",
      "{'Animal_name': 'cow', 'owner_name': 'Ghayur'}\n",
      "{'Animal_name': 'sheep', 'owner_name': 'raza'}\n",
      "{'Animal_name': 'buffellow', 'owner_name': 'qalandar'}\n"
     ]
    }
   ],
   "source": [
    "dict1 = {'Animal_name':'cow','owner_name':'Ghayur'}\n",
    "dict2 = {'Animal_name':'sheep','owner_name':'raza'}\n",
    "dict3 = {'Animal_name':'buffellow','owner_name':'qalandar'}\n",
    "Animal = list((dict1,dict2,dict3))\n",
    "print(Animal)\n",
    "print('\\n')\n",
    "for i in Animal:\n",
    "    print(i)"
   ]
  },
  {
   "cell_type": "code",
   "execution_count": 248,
   "id": "188d3446-5604-40da-9577-e7fe46c009e2",
   "metadata": {},
   "outputs": [
    {
     "name": "stdout",
     "output_type": "stream",
     "text": [
      "Ghayur\n",
      "raza\n",
      "qalandar\n"
     ]
    }
   ],
   "source": [
    "for i in Animal:\n",
    "    print(i['owner_name'])"
   ]
  },
  {
   "cell_type": "code",
   "execution_count": 249,
   "id": "b8915e62-99da-483a-aa11-ec1f3451e5e3",
   "metadata": {},
   "outputs": [],
   "source": [
    "# 5-8"
   ]
  },
  {
   "cell_type": "code",
   "execution_count": 253,
   "id": "b9403aeb-b25d-48eb-8bc5-e59c7a1a474f",
   "metadata": {},
   "outputs": [
    {
     "name": "stdin",
     "output_type": "stream",
     "text": [
      "enter you fav place islam abad\n",
      "enter you fav place kashmir\n"
     ]
    },
    {
     "name": "stdout",
     "output_type": "stream",
     "text": [
      "{'Ghayur Abbas': 'Murree', 'Tasawar Abbas': 'Naran', 'raza': 'islam abad', 'kazim': 'kashmir'}\n"
     ]
    }
   ],
   "source": [
    "f1 = {'Ghayur Abbas':\"Murree\",'Tasawar Abbas':\"Naran\",'raza':input('enter you fav place'),'kazim':input('enter you fav place'),}\n",
    "print(f1)"
   ]
  },
  {
   "cell_type": "code",
   "execution_count": 254,
   "id": "c2022892-a06c-4093-94cc-ffd43bf36ecf",
   "metadata": {},
   "outputs": [],
   "source": [
    "# 5-9"
   ]
  },
  {
   "cell_type": "code",
   "execution_count": 10,
   "id": "6626d7a2-11ef-41db-b6e0-5fddd67a123d",
   "metadata": {},
   "outputs": [
    {
     "name": "stdin",
     "output_type": "stream",
     "text": [
      "enter favourite number:  1\n",
      "enter second number 1\n",
      "enter favourite number:  1\n",
      "enter favourite number:  1\n",
      "enter favourite number:  1\n",
      "enter favourite number:  1\n"
     ]
    },
    {
     "name": "stdout",
     "output_type": "stream",
     "text": [
      "{'ghayur': [1, 1], 'wafadar': 1, 'tasawar': 1, 'raza': 1, 'kazim': 1}\n"
     ]
    }
   ],
   "source": [
    "dict = {'ghayur':[int(input(\"enter favourite number: \")),int(input('enter second number'))],'wafadar':int(input(\"enter favourite number: \")),'tasawar':int(input(\"enter favourite number: \")),'raza':int(input(\"enter favourite number: \")),'kazim':int(input(\"enter favourite number: \"))}\n",
    "print(dict)"
   ]
  },
  {
   "cell_type": "code",
   "execution_count": 11,
   "id": "5345030f-304a-43bb-b800-0a8e1632a06d",
   "metadata": {},
   "outputs": [],
   "source": [
    "# PythonRefresher 6"
   ]
  },
  {
   "cell_type": "code",
   "execution_count": 16,
   "id": "432aeff2-5438-4049-b0d9-9dad172a3592",
   "metadata": {},
   "outputs": [],
   "source": [
    "# 6-1"
   ]
  },
  {
   "cell_type": "code",
   "execution_count": 31,
   "id": "04575da6-1f32-4ac4-8463-f619d9a0a50f",
   "metadata": {},
   "outputs": [
    {
     "name": "stdout",
     "output_type": "stream",
     "text": [
      "the shirt size is medium, and the text is this is baby shirt\n"
     ]
    }
   ],
   "source": [
    "def make_shirt(size,text):\n",
    "    print(f'the shirt size is {size}, and the text is {text}')\n",
    "make_shirt('medium','this is baby shirt')"
   ]
  },
  {
   "cell_type": "code",
   "execution_count": 18,
   "id": "01fbab53-c9c2-4728-9ff0-bd1859cb0253",
   "metadata": {},
   "outputs": [],
   "source": [
    "# 6-2"
   ]
  },
  {
   "cell_type": "code",
   "execution_count": 34,
   "id": "7ce94468-51dd-4634-8b3a-83febc65affc",
   "metadata": {},
   "outputs": [
    {
     "name": "stdout",
     "output_type": "stream",
     "text": [
      "large shirt i love python\n"
     ]
    }
   ],
   "source": [
    "def make_shirt(size = 'large shirt',text = 'i love python'):\n",
    "    print(str(size),text)\n",
    "make_shirt()"
   ]
  },
  {
   "cell_type": "code",
   "execution_count": 44,
   "id": "133c6253-8b4f-40f0-9f05-f5026c8b67af",
   "metadata": {},
   "outputs": [
    {
     "name": "stdout",
     "output_type": "stream",
     "text": [
      "medium shirt,i love coding\n",
      "large shirt,Be calm\n",
      "medium shirt,Be Patience\n"
     ]
    }
   ],
   "source": [
    "def make_shirt(size = 'medium shirt',text = 'i love coding'):\n",
    "    print(f'{size},{text}')\n",
    "make_shirt()\n",
    "make_shirt(size = 'large shirt', text = 'Be calm')\n",
    "make_shirt(size = 'medium shirt', text = 'Be Patience')"
   ]
  },
  {
   "cell_type": "code",
   "execution_count": 58,
   "id": "bb0a79c4-faaf-4194-b823-3f1c13c52d22",
   "metadata": {},
   "outputs": [],
   "source": [
    "# 6-3"
   ]
  },
  {
   "cell_type": "code",
   "execution_count": 59,
   "id": "32376c72-0c53-423e-957d-af6b271c4134",
   "metadata": {},
   "outputs": [
    {
     "name": "stdout",
     "output_type": "stream",
     "text": [
      "['my name is ghayur', 'i am recently graduated from minhaj universty lahore', 'i am from Muzaffar garh']\n"
     ]
    }
   ],
   "source": [
    "def show_messages(lst):\n",
    "    lst = ['my name is ghayur',\n",
    "           'i am recently graduated from minhaj universty lahore',\n",
    "           'i am from Muzaffar garh'\n",
    "          ]\n",
    "    print(lst)\n",
    "show_messages(lst)"
   ]
  },
  {
   "cell_type": "code",
   "execution_count": 60,
   "id": "12265fb2-328f-47e5-8374-a06c19cc9a7d",
   "metadata": {},
   "outputs": [],
   "source": [
    "# 6-4"
   ]
  },
  {
   "cell_type": "code",
   "execution_count": 75,
   "id": "824ce6d1-39d3-42f2-add7-bb6603420157",
   "metadata": {},
   "outputs": [
    {
     "name": "stdin",
     "output_type": "stream",
     "text": [
      "enter he/she their replacement cost 500000\n"
     ]
    },
    {
     "name": "stdout",
     "output_type": "stream",
     "text": [
      "400000.0\n"
     ]
    }
   ],
   "source": [
    "def insurance():\n",
    "    replacement_cost = float(input('enter he/she their replacement cost'))\n",
    "    per = replacement_cost*0.8\n",
    "    print(per)\n",
    "insurance()"
   ]
  },
  {
   "cell_type": "code",
   "execution_count": 68,
   "id": "69cb8137-de08-4952-a8e4-583929fd5367",
   "metadata": {},
   "outputs": [
    {
     "name": "stdin",
     "output_type": "stream",
     "text": [
      "enter he/she their replacement cost 500000\n"
     ]
    },
    {
     "name": "stdout",
     "output_type": "stream",
     "text": [
      "400000.0\n"
     ]
    }
   ],
   "source": [
    "replacement_cost = int(input('enter he/she their replacement cost'))\n",
    "min_ins = replacement_cost*(80/100)\n",
    "print(min_ins)"
   ]
  },
  {
   "cell_type": "code",
   "execution_count": 76,
   "id": "258381d2-7b80-44ce-9672-ee1adef0661e",
   "metadata": {},
   "outputs": [],
   "source": [
    "# 6-5"
   ]
  },
  {
   "cell_type": "code",
   "execution_count": 80,
   "id": "cbf37f3d-8946-4007-bb54-72d62de228c4",
   "metadata": {},
   "outputs": [
    {
     "name": "stdin",
     "output_type": "stream",
     "text": [
      "enter your loan payment mount 500000\n",
      "enter your insurance payment mount 50000\n",
      "enter your gas payment mount 50000\n",
      "enter your oil payment mount 50000\n",
      "enter your tier price 50000\n",
      "enter your maintainence amount 50000\n"
     ]
    },
    {
     "name": "stdout",
     "output_type": "stream",
     "text": [
      "750000.0\n",
      "9000000.0\n"
     ]
    }
   ],
   "source": [
    "def monthly_costs():\n",
    "    load_payment = float(input('enter your loan payment mount'))\n",
    "    insurance = float(input('enter your insurance payment mount'))\n",
    "    gas = float(input('enter your gas payment mount'))\n",
    "    oil = float(input('enter your oil payment mount'))\n",
    "    tier = float(input('enter your tier price'))\n",
    "    maintainence = float(input('enter your maintainence amount'))\n",
    "    monthly_cost = (load_payment+gas+insurance+oil+tier+maintainence)\n",
    "    yearly_cost = (load_payment+gas+insurance+oil+tier+maintainence)*12\n",
    "    print(monthly_cost)\n",
    "    print(yearly_cost)\n",
    "monthly_costs()\n",
    "\n"
   ]
  },
  {
   "cell_type": "code",
   "execution_count": 85,
   "id": "fc83af03-2ac3-4763-b1c8-f84870a6163b",
   "metadata": {},
   "outputs": [],
   "source": [
    "#6-8"
   ]
  },
  {
   "cell_type": "code",
   "execution_count": 86,
   "id": "1a8c97f0-03d7-4deb-8dfb-a07d43a65437",
   "metadata": {},
   "outputs": [
    {
     "name": "stdin",
     "output_type": "stream",
     "text": [
      "enter the actual value 10000\n"
     ]
    },
    {
     "name": "stdout",
     "output_type": "stream",
     "text": [
      "6000.0\n",
      "43.199999999999996\n"
     ]
    }
   ],
   "source": [
    "def actual_value():\n",
    "    actual_value = float(input('enter the actual value'))\n",
    "    assessment_value = actual_value*0.60\n",
    "    property_tax = (assessment_value/100)*0.72\n",
    "    print(assessment_value)\n",
    "    print(property_tax)\n",
    "actual_value()"
   ]
  },
  {
   "cell_type": "code",
   "execution_count": 87,
   "id": "4277b270-c981-41d3-9f2e-2f2f013978e9",
   "metadata": {},
   "outputs": [],
   "source": [
    "# 6-9"
   ]
  },
  {
   "cell_type": "code",
   "execution_count": 91,
   "id": "a047ee9b-71c8-4052-b0fa-288ef2cff374",
   "metadata": {},
   "outputs": [
    {
     "name": "stdin",
     "output_type": "stream",
     "text": [
      "enter your fat germs 70\n",
      "enter your carbs germs 250\n"
     ]
    },
    {
     "name": "stdout",
     "output_type": "stream",
     "text": [
      "calories from fat germs 630.0\n",
      "calories from carb germs 1000.0\n",
      "1630.0\n"
     ]
    }
   ],
   "source": [
    "def calculation():\n",
    "    fat_germs = float(input('enter your fat germs'))\n",
    "    carbs_germs = float(input('enter your carbs germs'))\n",
    "    cal_fat_germs = fat_germs*9\n",
    "    cal_carbs_germs = carbs_germs*4\n",
    "    total_calories = cal_fat_germs+cal_carbs_germs\n",
    "    print(\"calories from fat germs\",cal_fat_germs)\n",
    "    print(\"calories from carb germs\",cal_carbs_germs)\n",
    "    print(total_calories)\n",
    "calculation()"
   ]
  },
  {
   "cell_type": "code",
   "execution_count": 92,
   "id": "66c98137-2a73-4182-970f-c86dc6f8270f",
   "metadata": {},
   "outputs": [],
   "source": [
    "# 6-10"
   ]
  },
  {
   "cell_type": "code",
   "execution_count": 1,
   "id": "bd9e847c-9b9f-4845-840b-4c4e81366469",
   "metadata": {},
   "outputs": [],
   "source": [
    "def stadium_seats():\n",
    "    class_A = 20\n",
    "    class_B = 15\n",
    "    Class_C = 10"
   ]
  },
  {
   "cell_type": "code",
   "execution_count": null,
   "id": "17ee83b1-9c28-41ca-a32b-be8dbe4e6f1d",
   "metadata": {},
   "outputs": [],
   "source": []
  },
  {
   "cell_type": "code",
   "execution_count": 2,
   "id": "3b5fbd6b-5b0e-438e-a57c-8f44d977cfc5",
   "metadata": {},
   "outputs": [],
   "source": [
    "# Function v2"
   ]
  },
  {
   "cell_type": "code",
   "execution_count": 3,
   "id": "d58cf3e9-1adc-4b6e-8e6f-5f02fa31e0e7",
   "metadata": {},
   "outputs": [],
   "source": [
    "# 7-1"
   ]
  },
  {
   "cell_type": "code",
   "execution_count": 9,
   "id": "a3f443bc-38e1-4e89-8f1d-0f9dc608a578",
   "metadata": {},
   "outputs": [
    {
     "name": "stdin",
     "output_type": "stream",
     "text": [
      "enter the property values in $: 10000\n"
     ]
    },
    {
     "name": "stdout",
     "output_type": "stream",
     "text": [
      "6000.0 $\n",
      "43.199999999999996 $\n"
     ]
    }
   ],
   "source": [
    "def check_value():\n",
    "    property_value = float(input('enter the property values in $:' ))\n",
    "    assessment_value = property_value*(60/100)\n",
    "    property_tax = (assessment_value/100)*0.72\n",
    "    print(assessment_value,'$')\n",
    "    print(property_tax,'$')\n",
    "check_value()                     "
   ]
  },
  {
   "cell_type": "code",
   "execution_count": 10,
   "id": "3182a14e-5a52-4a2b-9e0b-790b25126d1d",
   "metadata": {},
   "outputs": [],
   "source": [
    "# 7-2"
   ]
  },
  {
   "cell_type": "code",
   "execution_count": 1,
   "id": "5064c39d-ee00-4cb0-b653-b9b9d267b3b0",
   "metadata": {},
   "outputs": [
    {
     "name": "stdin",
     "output_type": "stream",
     "text": [
      "enter the square feet of the wall:  112\n",
      "enter the paint cost: 20\n"
     ]
    },
    {
     "name": "stdout",
     "output_type": "stream",
     "text": [
      "total gallon used 1.0\n",
      "total hours spend 8.0\n",
      "total pint cost 20.0\n",
      "total labour charges 280.0\n",
      "total costs 300.0\n"
     ]
    }
   ],
   "source": [
    "def painting(wall_space, paint_cost):\n",
    "    total_gallon = wall_space/112\n",
    "    total_hours = (wall_space/112)*8\n",
    "    total_paint_cost = total_gallon*paint_cost\n",
    "    labour_charges = total_hours*35\n",
    "    total_cost = total_paint_cost + labour_charges\n",
    "    print(\"total gallon used\" ,total_gallon)\n",
    "    print(\"total hours spend\", total_hours)\n",
    "    print(\"total pint cost\", total_paint_cost)\n",
    "    print(\"total labour charges\", labour_charges)\n",
    "    print(\"total costs\", total_cost)\n",
    "wall_space = int(input('enter the square feet of the wall: '))\n",
    "paint_cost = int(input('enter the paint cost:' ))\n",
    "painting(wall_space,paint_cost)\n",
    "    "
   ]
  },
  {
   "cell_type": "code",
   "execution_count": 2,
   "id": "a010aece-4487-4ba0-b0bb-f9e66a85996b",
   "metadata": {},
   "outputs": [],
   "source": [
    "# 7-3"
   ]
  },
  {
   "cell_type": "code",
   "execution_count": 6,
   "id": "f3474347-de2d-4154-8aeb-429814115fc6",
   "metadata": {},
   "outputs": [
    {
     "name": "stdin",
     "output_type": "stream",
     "text": [
      "enter the total sales for the month 500000\n"
     ]
    },
    {
     "name": "stdout",
     "output_type": "stream",
     "text": [
      "12500.0\n",
      "25000.0\n",
      "37500.0\n"
     ]
    }
   ],
   "source": [
    "def sales_tax(total_sales):\n",
    "    county_sales_tax = total_sales*(2.5/100)\n",
    "    state_tax_rate = total_sales*(5/100)\n",
    "    total_sales_tax = county_sales_tax + state_tax_rate\n",
    "    print(county_sales_tax)\n",
    "    print(state_tax_rate)\n",
    "    print(total_sales_tax)\n",
    "total_sales = int(input('enter the total sales for the month'))\n",
    "sales_tax(total_sales)"
   ]
  },
  {
   "cell_type": "code",
   "execution_count": 7,
   "id": "1a543687-4042-4353-b438-dc654f5222f8",
   "metadata": {},
   "outputs": [],
   "source": [
    "# 7-4"
   ]
  },
  {
   "cell_type": "code",
   "execution_count": 12,
   "id": "5a231794-640d-4e59-b5b1-1532c5b911de",
   "metadata": {},
   "outputs": [
    {
     "name": "stdin",
     "output_type": "stream",
     "text": [
      "enter the number of feet 5\n"
     ]
    },
    {
     "data": {
      "text/plain": [
       "60.0"
      ]
     },
     "execution_count": 12,
     "metadata": {},
     "output_type": "execute_result"
    }
   ],
   "source": [
    "def feet_to_inch(feet):\n",
    "    inch = feet*12\n",
    "    return inch\n",
    "feet = float(input('enter the number of feet'))\n",
    "feet_to_inch(feet)"
   ]
  },
  {
   "cell_type": "code",
   "execution_count": 13,
   "id": "29c0b989-7109-44ab-828e-3fdede87f913",
   "metadata": {},
   "outputs": [],
   "source": [
    "# 7-5"
   ]
  },
  {
   "cell_type": "code",
   "execution_count": 21,
   "id": "fbe1b7ad-0975-4a0c-9865-f0734e1ac6a9",
   "metadata": {},
   "outputs": [
    {
     "name": "stdin",
     "output_type": "stream",
     "text": [
      "enter the 1st number 4\n",
      "enter the 2nd number 5\n"
     ]
    },
    {
     "data": {
      "text/plain": [
       "5"
      ]
     },
     "execution_count": 21,
     "metadata": {},
     "output_type": "execute_result"
    }
   ],
   "source": [
    "def max(num1,num2):\n",
    "    if num1 > num2:\n",
    "        return num1\n",
    "    else:\n",
    "        return num2\n",
    "num1 = int(input('enter the 1st number'))\n",
    "num2 = int(input('enter the 2nd number'))\n",
    "max(num1,num2)"
   ]
  },
  {
   "cell_type": "code",
   "execution_count": 21,
   "id": "afd67ccb-5f52-41df-907e-b2d4bec25614",
   "metadata": {},
   "outputs": [],
   "source": [
    "# 7-6"
   ]
  },
  {
   "cell_type": "code",
   "execution_count": 22,
   "id": "8bb45044-3b4d-4a59-b263-b7e8fc74da62",
   "metadata": {},
   "outputs": [
    {
     "name": "stdin",
     "output_type": "stream",
     "text": [
      "enter 1st score:  99\n",
      "enter 2nd score:  88\n",
      "enter 3rd score:  77\n",
      "enter 4th score:  66\n",
      "enter 5th score:  55\n"
     ]
    },
    {
     "name": "stdout",
     "output_type": "stream",
     "text": [
      "77.0\n",
      "C\n",
      "F\n",
      "B\n",
      "C\n",
      "D\n",
      "F\n"
     ]
    }
   ],
   "source": [
    "def cal_average(s1,s2,s3,s4,s5):\n",
    "    average_score = (s1+s2+s3+s4+s5)/5\n",
    "    return average_score\n",
    "def determine_grade(score):\n",
    "    if 90 <= score >=100:\n",
    "        return 'A'\n",
    "    elif 80 <= score <=89:\n",
    "        return 'B'\n",
    "    elif 70 <= score <=79:\n",
    "        return 'C'\n",
    "    elif 60 <= score <=69:\n",
    "        return 'D'\n",
    "    else:\n",
    "        return 'F'\n",
    "s1 = int(input('enter 1st score: '))\n",
    "s2 = int(input('enter 2nd score: '))\n",
    "s3 = int(input('enter 3rd score: '))\n",
    "s4 = int(input('enter 4th score: '))\n",
    "s5 = int(input('enter 5th score: '))\n",
    "\n",
    "determine_grade(score)\n",
    "def main():\n",
    "    print(f'{cal_average(s1,s2,s3,s4,s5)}')\n",
    "    print(f'{determine_grade(cal_average(s1,s2,s3,s4,s5))}')\n",
    "    print(f'{determine_grade(s1)}')\n",
    "    print(f'{determine_grade(s2)}')\n",
    "    print(f'{determine_grade(s3)}')\n",
    "    print(f'{determine_grade(s4)}')\n",
    "    print(f'{determine_grade(s5)}')\n",
    "main()"
   ]
  },
  {
   "cell_type": "code",
   "execution_count": null,
   "id": "233f5ed1-51f9-4c4b-b1d7-c00e7ac6d870",
   "metadata": {},
   "outputs": [],
   "source": []
  }
 ],
 "metadata": {
  "kernelspec": {
   "display_name": "Python 3 (ipykernel)",
   "language": "python",
   "name": "python3"
  },
  "language_info": {
   "codemirror_mode": {
    "name": "ipython",
    "version": 3
   },
   "file_extension": ".py",
   "mimetype": "text/x-python",
   "name": "python",
   "nbconvert_exporter": "python",
   "pygments_lexer": "ipython3",
   "version": "3.11.7"
  }
 },
 "nbformat": 4,
 "nbformat_minor": 5
}
