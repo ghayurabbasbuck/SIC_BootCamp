{
  "cells": [
    {
      "cell_type": "markdown",
      "metadata": {
        "id": "EtP84dy184go"
      },
      "source": [
        "## Coding Exercise #0311"
      ]
    },
    {
      "cell_type": "markdown",
      "metadata": {
        "id": "Q9kkVaz584g1"
      },
      "source": [
        "### 1. Classification with SVM:"
      ]
    },
    {
      "cell_type": "code",
      "execution_count": null,
      "metadata": {
        "id": "bNWJ6Z5I84g3"
      },
      "outputs": [],
      "source": [
        "import numpy as np\n",
        "import pandas as pd\n",
        "import matplotlib.pyplot as plt\n",
        "import seaborn as sns\n",
        "import warnings\n",
        "from sklearn.model_selection import train_test_split,GridSearchCV\n",
        "from sklearn.svm import SVC\n",
        "from sklearn import metrics\n",
        "from sklearn.datasets import load_iris\n",
        "warnings.filterwarnings(action='ignore')                  # Turn off the warnings.\n",
        "%matplotlib inline"
      ]
    },
    {
      "cell_type": "markdown",
      "metadata": {
        "id": "-c6c_oKi84hA"
      },
      "source": [
        "#### 1.1. Read in data:"
      ]
    },
    {
      "cell_type": "code",
      "execution_count": null,
      "metadata": {
        "id": "RHbymxXW84hB"
      },
      "outputs": [],
      "source": [
        "# Load data.\n",
        "data = load_iris()"
      ]
    },
    {
      "cell_type": "code",
      "execution_count": null,
      "metadata": {
        "id": "q7rkQnOf84hD",
        "outputId": "ce00489f-9f02-4366-c9eb-a458b776a5d2"
      },
      "outputs": [
        {
          "name": "stdout",
          "output_type": "stream",
          "text": [
            "['sepal length (cm)', 'sepal width (cm)', 'petal length (cm)', 'petal width (cm)']\n"
          ]
        }
      ],
      "source": [
        "# Explanatory variables.\n",
        "X = data['data']\n",
        "columns = list(data['feature_names'])\n",
        "print(columns)"
      ]
    },
    {
      "cell_type": "code",
      "execution_count": null,
      "metadata": {
        "id": "GvnuM_xL84hG",
        "outputId": "37572c9b-6f34-4cf3-be29-9df8815f3470"
      },
      "outputs": [
        {
          "name": "stdout",
          "output_type": "stream",
          "text": [
            "['setosa', 'versicolor', 'virginica']\n"
          ]
        }
      ],
      "source": [
        "# Response variable.\n",
        "Y = data['target']\n",
        "labels = list(data['target_names'])\n",
        "print(labels)"
      ]
    },
    {
      "cell_type": "code",
      "execution_count": null,
      "metadata": {
        "id": "pkXzq2MP84hM"
      },
      "outputs": [],
      "source": [
        "X_train, X_test, Y_train, Y_test = train_test_split(X, Y, test_size=0.3, random_state=1234)"
      ]
    },
    {
      "cell_type": "markdown",
      "metadata": {
        "id": "niNUekhu84he"
      },
      "source": [
        "#### 1.2. SVM hyperparameter optimization (RBF kernel):"
      ]
    },
    {
      "cell_type": "markdown",
      "metadata": {
        "id": "hTub-6d684hi"
      },
      "source": [
        "C     : Penalty parameter. <br>\n",
        "gamma : kernel parameter ($\\gamma$)."
      ]
    },
    {
      "cell_type": "code",
      "execution_count": null,
      "metadata": {
        "id": "Z-KGMUv184hj"
      },
      "outputs": [],
      "source": [
        "C_grid = 0.02*np.arange(1,20)\n",
        "gamma_grid = 0.02*np.arange(1,50)\n",
        "parameters = {'C': C_grid, 'gamma' : gamma_grid}\n",
        "gridCV = GridSearchCV(SVC(kernel='rbf'), parameters, cv=10, n_jobs=-1)              # \"n_jobs = -1\" means \"use all the CPU cores\".\n",
        "gridCV.fit(X_train, Y_train)\n",
        "best_C = gridCV.best_params_['C']\n",
        "best_gamma = gridCV.best_params_['gamma']"
      ]
    },
    {
      "cell_type": "code",
      "execution_count": null,
      "metadata": {
        "id": "OLvaYJwx84hk",
        "outputId": "e597041f-581c-4a4b-89e7-f0bb23830d40"
      },
      "outputs": [
        {
          "name": "stdout",
          "output_type": "stream",
          "text": [
            "SVM best C : 0.2\n",
            "SVM best gamma : 0.78\n"
          ]
        }
      ],
      "source": [
        "print(\"SVM best C : \" + str(best_C))\n",
        "print(\"SVM best gamma : \" + str(best_gamma))"
      ]
    },
    {
      "cell_type": "code",
      "execution_count": null,
      "metadata": {
        "id": "ohUmWiry84hm",
        "outputId": "319bdfd0-1dc7-44f1-ebda-a11e4b917827"
      },
      "outputs": [
        {
          "name": "stdout",
          "output_type": "stream",
          "text": [
            "SVM best accuracy : 0.978\n"
          ]
        }
      ],
      "source": [
        "SVM_best = SVC(kernel='rbf', C=best_C,gamma=best_gamma)\n",
        "SVM_best.fit(X_train, Y_train);\n",
        "Y_pred = SVM_best.predict(X_test)\n",
        "print( \"SVM best accuracy : \" + str(np.round(metrics.accuracy_score(Y_test,Y_pred),3)))"
      ]
    },
    {
      "cell_type": "markdown",
      "metadata": {
        "id": "cR1KvsBI84hp"
      },
      "source": [
        "#### 1.3. SVM hyperparameter optimization (Polynomial kernel):"
      ]
    },
    {
      "cell_type": "code",
      "execution_count": null,
      "metadata": {
        "id": "jq5Ej4dl84hr"
      },
      "outputs": [],
      "source": [
        "C_grid = 0.0001*np.arange(1,30)\n",
        "gamma_grid = 0.01*np.arange(1,30)\n",
        "parameters = {'C': C_grid, 'gamma' : gamma_grid}\n",
        "gridCV = GridSearchCV(SVC(kernel='poly'), parameters, cv=10, n_jobs=-1)              # \"n_jobs = -1\" means \"use all the CPU cores\".\n",
        "gridCV.fit(X_train, Y_train)\n",
        "best_C = gridCV.best_params_['C']\n",
        "best_gamma = gridCV.best_params_['gamma']"
      ]
    },
    {
      "cell_type": "code",
      "execution_count": null,
      "metadata": {
        "id": "3GxcuebF84hs",
        "outputId": "ccc568cc-c20d-4d76-b60a-a91e477dcb6a"
      },
      "outputs": [
        {
          "name": "stdout",
          "output_type": "stream",
          "text": [
            "SVM best C : 0.0007\n",
            "SVM best gamma : 0.27\n"
          ]
        }
      ],
      "source": [
        "print(\"SVM best C : \" + str(best_C))\n",
        "print(\"SVM best gamma : \" + str(best_gamma))"
      ]
    },
    {
      "cell_type": "code",
      "execution_count": null,
      "metadata": {
        "id": "wKXIxqtS84h5",
        "outputId": "484df5e4-b989-4824-b272-034cadeca780"
      },
      "outputs": [
        {
          "name": "stdout",
          "output_type": "stream",
          "text": [
            "SVM best accuracy : 0.956\n"
          ]
        }
      ],
      "source": [
        "SVM_best = SVC(kernel='poly', C=best_C,gamma=best_gamma)\n",
        "SVM_best.fit(X_train, Y_train);\n",
        "Y_pred = SVM_best.predict(X_test)\n",
        "print( \"SVM best accuracy : \" + str(np.round(metrics.accuracy_score(Y_test,Y_pred),3)))"
      ]
    },
    {
      "cell_type": "code",
      "execution_count": null,
      "metadata": {
        "id": "hyxPinRJ84h6"
      },
      "outputs": [],
      "source": []
    }
  ],
  "metadata": {
    "kernelspec": {
      "display_name": "Python 3 (ipykernel)",
      "language": "python",
      "name": "python3"
    },
    "language_info": {
      "codemirror_mode": {
        "name": "ipython",
        "version": 3
      },
      "file_extension": ".py",
      "mimetype": "text/x-python",
      "name": "python",
      "nbconvert_exporter": "python",
      "pygments_lexer": "ipython3",
      "version": "3.10.11"
    },
    "colab": {
      "provenance": []
    }
  },
  "nbformat": 4,
  "nbformat_minor": 0
}